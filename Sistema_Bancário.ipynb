{
  "nbformat": 4,
  "nbformat_minor": 0,
  "metadata": {
    "colab": {
      "provenance": [],
      "authorship_tag": "ABX9TyPl6Wc+E/O6/33U3EM31QzK",
      "include_colab_link": true
    },
    "kernelspec": {
      "name": "python3",
      "display_name": "Python 3"
    },
    "language_info": {
      "name": "python"
    }
  },
  "cells": [
    {
      "cell_type": "markdown",
      "metadata": {
        "id": "view-in-github",
        "colab_type": "text"
      },
      "source": [
        "<a href=\"https://colab.research.google.com/github/Jnfagundes/Estudando-na-Dio/blob/main/Sistema_Banc%C3%A1rio.ipynb\" target=\"_parent\"><img src=\"https://colab.research.google.com/assets/colab-badge.svg\" alt=\"Open In Colab\"/></a>"
      ]
    },
    {
      "cell_type": "markdown",
      "source": [
        "Criar um sistema bancário com as operaões: sacar, depositar e vizualizar extrato"
      ],
      "metadata": {
        "id": "5ja1VnLgAFAS"
      }
    },
    {
      "cell_type": "code",
      "source": [
        "saldo = 0\n",
        "contSaques = 0\n",
        "quantidadeSaques = 3\n",
        "limiteSaque = 500\n",
        "saqueDisp = 0\n",
        "extrato = \"\"\n"
      ],
      "metadata": {
        "id": "ad_dI8vLBWEO"
      },
      "execution_count": 190,
      "outputs": []
    },
    {
      "cell_type": "code",
      "source": [
        "def depositar():\n",
        "  global saldo\n",
        "  print(\"========== Depósito ==========\")\n",
        "  print(f\"**** Seu saldo atual é: R${saldo} ****\")\n",
        "  valor = float(input(\"Digite o valor que deseja depositar: \"))\n",
        "  if valor < 0:\n",
        "    print(\"Valor inválido\")\n",
        "  else:\n",
        "    valorSaldo =saldo + valor\n",
        "    saldo = valorSaldo\n",
        "    print(\"---------------------------------\")\n",
        "    print(f\"Seu novo saldo é: R${valorSaldo}\")\n"
      ],
      "metadata": {
        "id": "4AbEJ16DBx88"
      },
      "execution_count": 191,
      "outputs": []
    },
    {
      "cell_type": "code",
      "source": [
        "def sacar():\n",
        "  global saldo\n",
        "  global quantidadeSaques\n",
        "  global limiteSaque\n",
        "  global contSaques\n",
        "  global saqueDisp\n",
        "  print(\"\\n\\n========== Saque ==========\")\n",
        "  print(f\"**** Seu saldo atual é: R${saldo}\")\n",
        "  saque = float(input(\"Digite o valor que deseja sacar: \"))\n",
        "  print(\"---------------------------------\")\n",
        "  if saque > 500:\n",
        "    print(\"O saque máximo é de R$500.00\")\n",
        "    saque = float(input(\"Digite o valor que deseja sacar: \"))\n",
        "\n",
        "  elif saque < 0:\n",
        "      print(\"O saque mínimo é de R$10.00\\n\")\n",
        "  elif saque > saldo:\n",
        "      print(\"Não é possível fazer o saque. Verifique o seu saldo.\\n\")\n",
        "  else:\n",
        "      saldo = saldo - saque\n",
        "      contSaques = contSaques + 1\n",
        "      quantidadeSaques = quantidadeSaques - 1\n",
        "      saqueDisp = saqueDisp + 1\n",
        "      print(f\"Você sacou R${saque} seu novo saldo é: R${saldo}\")\n",
        "      print(f\"\\n**** ATENÇÃO: Você ainda tem {quantidadeSaques} saques para fazer \\n****\")\n"
      ],
      "metadata": {
        "id": "6DhXhkEME6P6"
      },
      "execution_count": 192,
      "outputs": []
    },
    {
      "cell_type": "code",
      "source": [
        "def extrato():\n",
        "  print(f\"\"\" +++++++ Extrato para simples conferência ++++++\n",
        "    saldo atual: {saldo}\n",
        "    Foram feitos {saqueDisp} saques no mês\"\"\")"
      ],
      "metadata": {
        "id": "nUBUM2IvHO8C"
      },
      "execution_count": 193,
      "outputs": []
    },
    {
      "cell_type": "code",
      "execution_count": null,
      "metadata": {
        "id": "UM0upX7GABOD"
      },
      "outputs": [],
      "source": [
        "print(\"\"\"O que deseja fazer\n",
        "  1 -- Depositar\n",
        "  2 -- Sacar\n",
        "  3 -- Extrato\n",
        "  4 -- Sair\"\"\")\n",
        "\n",
        "escolha = int(input(\"Digite a opção desejada: \"))\n"
      ]
    },
    {
      "cell_type": "code",
      "source": [],
      "metadata": {
        "id": "TUEciwCfC9LQ"
      },
      "execution_count": null,
      "outputs": []
    }
  ]
}