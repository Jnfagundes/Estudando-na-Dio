{
  "nbformat": 4,
  "nbformat_minor": 0,
  "metadata": {
    "colab": {
      "provenance": [],
      "authorship_tag": "ABX9TyOqm8IMQpSj8p9wqOKuMBnR",
      "include_colab_link": true
    },
    "kernelspec": {
      "name": "python3",
      "display_name": "Python 3"
    },
    "language_info": {
      "name": "python"
    }
  },
  "cells": [
    {
      "cell_type": "markdown",
      "metadata": {
        "id": "view-in-github",
        "colab_type": "text"
      },
      "source": [
        "<a href=\"https://colab.research.google.com/github/Jnfagundes/Estudando-na-Dio/blob/main/Sistema_Banc%C3%A1rio.ipynb\" target=\"_parent\"><img src=\"https://colab.research.google.com/assets/colab-badge.svg\" alt=\"Open In Colab\"/></a>"
      ]
    },
    {
      "cell_type": "markdown",
      "source": [
        "Criar um sistema bancário com as operaões: sacar, depositar e vizualizar extrato"
      ],
      "metadata": {
        "id": "5ja1VnLgAFAS"
      }
    },
    {
      "cell_type": "code",
      "source": [
        "saldo = 0\n",
        "contSaques = 0\n",
        "quantidadeSaques = 3\n",
        "limiteSaque = 500\n",
        "saqueDisp = 0\n",
        "historico_extrato = \"\"\n",
        "saques = {}\n",
        "saque = 0"
      ],
      "metadata": {
        "id": "ad_dI8vLBWEO"
      },
      "execution_count": 97,
      "outputs": []
    },
    {
      "cell_type": "code",
      "source": [
        "def depositar():\n",
        "    global saldo\n",
        "    print(\"========== Depósito ==========\")\n",
        "    print(f\"**** Seu saldo atual é: R${saldo:.2f} ****\")\n",
        "\n",
        "    valor = float(input(\"Digite o valor que deseja depositar: \"))\n",
        "\n",
        "    if valor <= 0:\n",
        "        print(\"⚠️ Valor inválido. Digite um valor positivo.\")\n",
        "    else:\n",
        "        saldo += valor\n",
        "        print(\"---------------------------------\")\n",
        "        print(f\"✅ Depósito realizado com sucesso!\")\n",
        "        print(f\"💰 Seu novo saldo é: R${saldo:.2f}\")\n",
        "\n"
      ],
      "metadata": {
        "id": "4AbEJ16DBx88"
      },
      "execution_count": 98,
      "outputs": []
    },
    {
      "cell_type": "code",
      "source": [
        "depositar()"
      ],
      "metadata": {
        "colab": {
          "base_uri": "https://localhost:8080/"
        },
        "id": "rnoKlD-RPwla",
        "outputId": "b9c8dd0e-5680-4b39-b65b-4e0a2189aa36"
      },
      "execution_count": 87,
      "outputs": [
        {
          "output_type": "stream",
          "name": "stdout",
          "text": [
            "========== Depósito ==========\n",
            "**** Seu saldo atual é: R$0.00 ****\n",
            "Digite o valor que deseja depositar: 2000\n",
            "---------------------------------\n",
            "✅ Depósito realizado com sucesso!\n",
            "💰 Seu novo saldo é: R$2000.00\n"
          ]
        }
      ]
    },
    {
      "cell_type": "code",
      "source": [
        "def sacar():\n",
        "    global saldo\n",
        "    global quantidadeSaques\n",
        "    global limiteSaque\n",
        "    global contSaques\n",
        "    global saqueDisp\n",
        "    global saque\n",
        "    global historico_extrato\n",
        "\n",
        "    print(\"\\n========== Saque ==========\")\n",
        "    print(f\"💰 Seu saldo atual é: R${saldo:.2f}\")\n",
        "\n",
        "    if saldo <= 0:\n",
        "        print(\"❌ Seu saldo está zerado. Deposite antes de sacar.\")\n",
        "        return\n",
        "\n",
        "    if quantidadeSaques <= 0:\n",
        "        print(\"⚠️ Você já atingiu o limite diário de saques.\")\n",
        "        return\n",
        "\n",
        "    saque = float(input(\"Digite o valor que deseja sacar: \"))\n",
        "\n",
        "    if saque <= 0:\n",
        "        print(\"❌ Valor inválido. Digite um valor positivo.\")\n",
        "    elif saque > limiteSaque:\n",
        "        print(f\"❌ O valor máximo de saque é R${limiteSaque:.2f}.\")\n",
        "    elif saque > saldo:\n",
        "        print(\"❌ Saldo insuficiente.\")\n",
        "    else:\n",
        "        saldo -= saque\n",
        "        contSaques += 1\n",
        "        quantidadeSaques -= 1\n",
        "        saqueDisp += 1\n",
        "        historico_extrato += f\"Saque: R$ {saque:.2f}\\n\"\n",
        "        print(f\"✅ Saque de R${saque:.2f} realizado com sucesso.\")\n",
        "        print(f\"💰 Novo saldo: R${saldo:.2f}\")\n",
        "        print(f\"🔁 Saques restantes hoje: {quantidadeSaques}\")\n"
      ],
      "metadata": {
        "id": "6DhXhkEME6P6"
      },
      "execution_count": 106,
      "outputs": []
    },
    {
      "cell_type": "code",
      "source": [
        "sacar()"
      ],
      "metadata": {
        "colab": {
          "base_uri": "https://localhost:8080/"
        },
        "id": "o5JUv9yrP2S4",
        "outputId": "9045aa8d-65c5-4421-96d8-07f6e4e4be8d"
      },
      "execution_count": 89,
      "outputs": [
        {
          "output_type": "stream",
          "name": "stdout",
          "text": [
            "\n",
            "========== Saque ==========\n",
            "💰 Seu saldo atual é: R$2000.00\n",
            "Digite o valor que deseja sacar: 500\n",
            "✅ Saque de R$500.00 realizado com sucesso.\n",
            "💰 Novo saldo: R$1500.00\n",
            "🔁 Saques restantes hoje: 2\n"
          ]
        }
      ]
    },
    {
      "cell_type": "code",
      "source": [
        "def extrato():\n",
        "    global saldo\n",
        "    global saqueDisp\n",
        "    global saques\n",
        "    global historico_extrato\n",
        "\n",
        "    print(\"\\n+++++++ Extrato para simples conferência +++++++\")\n",
        "    print(f\"💰 Saldo atual: R${saldo:.2f}\")\n",
        "    print(f\"🔁 Foram feitos {saqueDisp} saques no mês\")\n",
        "\n",
        "    if not saques:\n",
        "        print(\"📭 Nenhum saque registrado.\")\n",
        "    else:\n",
        "        print(\"\\n📄 Saques registrados:\")\n",
        "        for chave, valor in saques.items():\n",
        "            print(f\"{chave}: R$ {valor:.2f}\")\n",
        "\n",
        "    print(\"\\n🧾 Histórico:\")\n",
        "    print(historico_extrato if historico_extrato else \"Sem movimentações ainda.\")\n",
        ""
      ],
      "metadata": {
        "id": "nUBUM2IvHO8C"
      },
      "execution_count": 100,
      "outputs": []
    },
    {
      "cell_type": "code",
      "source": [
        "extrato()"
      ],
      "metadata": {
        "colab": {
          "base_uri": "https://localhost:8080/"
        },
        "id": "MKJhGvMtP97m",
        "outputId": "f370d99a-4c2c-47d4-c13f-d19707085b72"
      },
      "execution_count": 91,
      "outputs": [
        {
          "output_type": "stream",
          "name": "stdout",
          "text": [
            "\n",
            "+++++++ Extrato para simples conferência +++++++\n",
            "💰 Saldo atual: R$1500.00\n",
            "🔁 Foram feitos 1 saques no mês\n",
            "📭 Nenhum saque registrado.\n"
          ]
        }
      ]
    },
    {
      "cell_type": "code",
      "execution_count": 101,
      "metadata": {
        "id": "UM0upX7GABOD"
      },
      "outputs": [],
      "source": [
        "def menu():\n",
        "    while True:\n",
        "        print(\"\"\"\n",
        "========= MENU =========\n",
        "1 -- Depositar\n",
        "2 -- Sacar\n",
        "3 -- Extrato\n",
        "4 -- Sair\n",
        "\"\"\")\n",
        "        try:\n",
        "            escolha = int(input(\"Digite a opção desejada: \"))\n",
        "        except ValueError:\n",
        "            print(\"❌ Entrada inválida. Digite um número entre 1 e 4.\")\n",
        "            continue\n",
        "\n",
        "        if escolha == 1:\n",
        "            depositar()\n",
        "\n",
        "        elif escolha == 2:\n",
        "            sacar()\n",
        "            if saque > 0:\n",
        "                # grava o saque usando contSaques como parte da chave\n",
        "                chave_saque = f\"Saque{contSaques}\"\n",
        "                saques[chave_saque] = saque\n",
        "\n",
        "        elif escolha == 3:\n",
        "            extrato()\n",
        "\n",
        "        elif escolha == 4:\n",
        "            print(\"👋 Obrigado por usar nossos serviços!\")\n",
        "            break\n",
        "\n",
        "        else:\n",
        "            print(\"❌ Opção inválida. Tente novamente.\")\n"
      ]
    },
    {
      "cell_type": "code",
      "source": [
        "menu()"
      ],
      "metadata": {
        "colab": {
          "base_uri": "https://localhost:8080/"
        },
        "id": "Oz1OvdhzPkss",
        "outputId": "d9aa5193-8d0c-4833-8651-91a27ab1828d"
      },
      "execution_count": 107,
      "outputs": [
        {
          "output_type": "stream",
          "name": "stdout",
          "text": [
            "\n",
            "========= MENU =========\n",
            "1 -- Depositar\n",
            "2 -- Sacar\n",
            "3 -- Extrato\n",
            "4 -- Sair\n",
            "\n",
            "Digite a opção desejada: 3\n",
            "\n",
            "+++++++ Extrato para simples conferência +++++++\n",
            "💰 Saldo atual: R$1000.00\n",
            "🔁 Foram feitos 2 saques no mês\n",
            "📭 Nenhum saque registrado.\n",
            "\n",
            "🧾 Histórico:\n",
            "Sem movimentações ainda.\n",
            "\n",
            "========= MENU =========\n",
            "1 -- Depositar\n",
            "2 -- Sacar\n",
            "3 -- Extrato\n",
            "4 -- Sair\n",
            "\n",
            "Digite a opção desejada: 2\n",
            "\n",
            "========== Saque ==========\n",
            "💰 Seu saldo atual é: R$1000.00\n",
            "Digite o valor que deseja sacar: 200\n",
            "✅ Saque de R$200.00 realizado com sucesso.\n",
            "💰 Novo saldo: R$800.00\n",
            "🔁 Saques restantes hoje: 0\n",
            "\n",
            "========= MENU =========\n",
            "1 -- Depositar\n",
            "2 -- Sacar\n",
            "3 -- Extrato\n",
            "4 -- Sair\n",
            "\n",
            "Digite a opção desejada: 3\n",
            "\n",
            "+++++++ Extrato para simples conferência +++++++\n",
            "💰 Saldo atual: R$800.00\n",
            "🔁 Foram feitos 3 saques no mês\n",
            "\n",
            "📄 Saques registrados:\n",
            "Saque3: R$ 200.00\n",
            "\n",
            "🧾 Histórico:\n",
            "Saque: R$ 200.00\n",
            "\n",
            "\n",
            "========= MENU =========\n",
            "1 -- Depositar\n",
            "2 -- Sacar\n",
            "3 -- Extrato\n",
            "4 -- Sair\n",
            "\n",
            "Digite a opção desejada: 4\n",
            "👋 Obrigado por usar nossos serviços!\n"
          ]
        }
      ]
    }
  ]
}